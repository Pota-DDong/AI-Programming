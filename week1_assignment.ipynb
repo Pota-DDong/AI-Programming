{
 "cells": [
  {
   "cell_type": "markdown",
   "metadata": {
    "id": "dEOsF62CBr0z"
   },
   "source": [
    "※ 참고사항\n",
    "1. 실습 시간에 모든 문제를 해결했을 경우, 강의 종료!\n",
    "\n",
    "2. 위의 질문에 대해 각자 Cell을 만들어 작성하고, E-campus에 제출시 ipynb 파일로 제출할 것.\n",
    "\n",
    "3. 첫번째 과제의 제출 기간은 9/20 15:00 까지\n",
    "\n",
    "4. 기타 질문 사항은 조교에게 문의\n",
    "\n",
    "문제1 : 강수량과 기온에 따른 날씨의 맑음, 흐림에 대한 유무가 다음 데이터와 같다.\n",
    "\n",
    "해당 데이터와, KNeighborsClassifier를 사용하여 날씨 정보를 학습하고 예측하는 프로그램을 구성하고 아래 사항에 답하여라\n",
    "\n",
    "1-1) N = 3일 때 분류 모델의 정확도를 구하여라\n",
    "\n",
    "1-2) N = 3일 때, 강수량이 3.0, 기온이 20.0일 때 날씨는 흐림인가? 맑음인가?\n",
    "\n",
    "1-3) N = 3일 때, 강수량이 4.0, 기온이 20.0일 때 날씨는 맑음인가? 흐림인가?\n",
    "\n",
    "1-4) N의 값의 범위가 2~5일 때 가장 정확도가 높은 N의 값은\n",
    "몇인지 구하고 이유에 대해서 설명하여라.\n",
    "\n",
    "1-5) 1-4의 문제에 대해 K 값에 따른 정확도를 Plotting 하여라. \n",
    "\n",
    "\n"
   ]
  },
  {
   "cell_type": "code",
   "execution_count": 9,
   "metadata": {
    "id": "7WEYxTArCRDt"
   },
   "outputs": [],
   "source": [
    "# Assigning features and label variables\n",
    "# First Feature\n",
    "rain = [0.0, 0.5, 1.0, 7.1, 2.3, 6.1, 3.3, 3.7, 20.0, 2.1, 0.1, 0.3, 0.3, 1.1, 0.5, 4.2, 8.6, 3.0, 5.4, 3.3]\n",
    "\n",
    "# Second Feature\n",
    "temp = [23.1, 22.7, 21.9, 16.4, 20.2, 19.2, 19.5, 18.3, 14.2, 21.1, 22.2, 22.3, 22.0, 21.1, 23.0, 20.1, 17.8, 18.9, 18.2, 20.6]\n",
    "\n",
    "# Label or target varible 0 : 흐림, 1 : 맑음\n",
    "weather = [1, 1, 1, 0, 0, 0, 1, 0, 0, 0, 1, 1, 1, 1, 1, 0, 0, 0, 0, 1]"
   ]
  },
  {
   "cell_type": "code",
   "execution_count": 10,
   "metadata": {
    "id": "3QTvlfM8CWOJ"
   },
   "outputs": [],
   "source": [
    "from sklearn.neighbors import KNeighborsClassifier\n",
    "import numpy as np\n",
    "from sklearn import datasets\n"
   ]
  },
  {
   "cell_type": "code",
   "execution_count": 11,
   "metadata": {
    "id": "bE7gTy-ECWMF"
   },
   "outputs": [
    {
     "data": {
      "text/plain": [
       "0.85"
      ]
     },
     "execution_count": 11,
     "metadata": {},
     "output_type": "execute_result"
    }
   ],
   "source": [
    "weather_data=[[l,w]for l, w in zip(rain,temp)]\n",
    "kn=KNeighborsClassifier(n_neighbors=3)\n",
    "kn.fit(weather_data,weather)\n",
    "kn.score(weather_data,weather)"
   ]
  },
  {
   "cell_type": "code",
   "execution_count": 12,
   "metadata": {
    "id": "NXc9MgTYCWEK"
   },
   "outputs": [
    {
     "data": {
      "text/plain": [
       "array([1])"
      ]
     },
     "execution_count": 12,
     "metadata": {},
     "output_type": "execute_result"
    }
   ],
   "source": [
    "kn.predict([[3.0,20.0]])#맑음"
   ]
  },
  {
   "cell_type": "code",
   "execution_count": 13,
   "metadata": {},
   "outputs": [
    {
     "data": {
      "text/plain": [
       "array([1])"
      ]
     },
     "execution_count": 13,
     "metadata": {},
     "output_type": "execute_result"
    }
   ],
   "source": [
    "kn.predict([[4.0,20.0]])#맑음"
   ]
  },
  {
   "cell_type": "code",
   "execution_count": 14,
   "metadata": {
    "id": "ZUqeUOBqERIZ",
    "scrolled": false
   },
   "outputs": [
    {
     "data": {
      "text/plain": [
       "0.9"
      ]
     },
     "execution_count": 14,
     "metadata": {},
     "output_type": "execute_result"
    }
   ],
   "source": [
    "weather_data=[[l,w]for l, w in zip(rain,temp)]\n",
    "kn=KNeighborsClassifier(n_neighbors=2)#여기서 n_neighbors는 값들의 개수를 뜻하고 k는 범위의 크기인듯 하다 \n",
    "kn.fit(weather_data,weather)\n",
    "kn.score(weather_data,weather)\n",
    "#2,4일떄 정확도가 가장 높다 정확도를 구했을때, 4개의 정수중 2,4가 0.9의 정확도로 가장 높기 때문이다. \n"
   ]
  },
  {
   "cell_type": "code",
   "execution_count": 31,
   "metadata": {},
   "outputs": [
    {
     "data": {
      "image/png": "[encoded data removed]",
      "text/plain": [
       "<Figure size 432x288 with 1 Axes>"
      ]
     },
     "metadata": {
      "needs_background": "light"
     },
     "output_type": "display_data"
    }
   ],
   "source": [
    "weather_data=[[l,w]for l, w in zip(rain,temp)]\n",
    "N_list=[]\n",
    "Weather_accuracy=[]\n",
    "for a in range(2,6):\n",
    "    N_list.append(a)\n",
    "    kn=KNeighborsClassifier(n_neighbors=a)\n",
    "    kn.fit(weather_data,weather)\n",
    "    Weather_accuracy.append(kn.score(weather_data,weather))\n",
    "plt.scatter(N_list,Weather_accuracy)\n",
    "plt.xlabel('K')\n",
    "plt.ylabel('Accuracy')\n",
    "plt.show()\n"
   ]
  },
  {
   "cell_type": "code",
   "execution_count": null,
   "metadata": {},
   "outputs": [],
   "source": []
  },
  {
   "cell_type": "code",
   "execution_count": 16,
   "metadata": {},
   "outputs": [
    {
     "data": {
      "image/png": "[encoded data removed]",
      "text/plain": [
       "<Figure size 432x288 with 1 Axes>"
      ]
     },
     "metadata": {
      "needs_background": "light"
     },
     "output_type": "display_data"
    }
   ],
   "source": [
    "rain = [0.0, 0.5, 1.0, 7.1, 2.3, 6.1, 3.3, 3.7, 20.0, 2.1, 0.1, 0.3, 0.3, 1.1, 0.5, 4.2, 8.6, 3.0, 5.4, 3.3]\n",
    "\n",
    "# Second Feature\n",
    "temp = [23.1, 22.7, 21.9, 16.4, 20.2, 19.2, 19.5, 18.3, 14.2, 21.1, 22.2, 22.3, 22.0, 21.1, 23.0, 20.1, 17.8, 18.9, 18.2, 20.6]\n",
    "\n",
    "import matplotlib.pyplot as plt #그래프들을 제공하는 파이썬 라이브러리\n",
    "plt.scatter(rain,temp)\n",
    "plt.xlabel('rain')\n",
    "plt.ylabel('temp')\n",
    "plt.show()\n"
   ]
  },
  {
   "cell_type": "markdown",
   "metadata": {
    "id": "tTGKuncHDXrQ"
   },
   "source": [
    "실습 문제 2 아래 Cell에 Wine에 대한 정보가 담겨있다. 해당 데이터와, KNeighborsClassifier를 사용하여 날씨 정보를 학습하고 예측하는 프로그램을 구성하고 아래 사항에 답하여라\n",
    "\n",
    "1-1) N = 3일 때 분류 모델의 정확도를 구하여라.\n",
    "\n",
    "1-2) N의 값의 범위가 2~7일 때 정확도가 가장 높은 N의 값은 몇인지 구하고 이유에 대해서 설명하여라.\n",
    "\n",
    "1-3) 1-3의 문제에 대해 K 값에 따른 정확도를 Plotting 하여라. "
   ]
  },
  {
   "cell_type": "code",
   "execution_count": 17,
   "metadata": {
    "id": "aBgfrKpMDV3l"
   },
   "outputs": [
    {
     "name": "stdout",
     "output_type": "stream",
     "text": [
      "{'data': array([[1.423e+01, 1.710e+00, 2.430e+00, ..., 1.040e+00, 3.920e+00,\n",
      "        1.065e+03],\n",
      "       [1.320e+01, 1.780e+00, 2.140e+00, ..., 1.050e+00, 3.400e+00,\n",
      "        1.050e+03],\n",
      "       [1.316e+01, 2.360e+00, 2.670e+00, ..., 1.030e+00, 3.170e+00,\n",
      "        1.185e+03],\n",
      "       ...,\n",
      "       [1.327e+01, 4.280e+00, 2.260e+00, ..., 5.900e-01, 1.560e+00,\n",
      "        8.350e+02],\n",
      "       [1.317e+01, 2.590e+00, 2.370e+00, ..., 6.000e-01, 1.620e+00,\n",
      "        8.400e+02],\n",
      "       [1.413e+01, 4.100e+00, 2.740e+00, ..., 6.100e-01, 1.600e+00,\n",
      "        5.600e+02]]), 'target': array([0, 0, 0, 0, 0, 0, 0, 0, 0, 0, 0, 0, 0, 0, 0, 0, 0, 0, 0, 0, 0, 0,\n",
      "       0, 0, 0, 0, 0, 0, 0, 0, 0, 0, 0, 0, 0, 0, 0, 0, 0, 0, 0, 0, 0, 0,\n",
      "       0, 0, 0, 0, 0, 0, 0, 0, 0, 0, 0, 0, 0, 0, 0, 1, 1, 1, 1, 1, 1, 1,\n",
      "       1, 1, 1, 1, 1, 1, 1, 1, 1, 1, 1, 1, 1, 1, 1, 1, 1, 1, 1, 1, 1, 1,\n",
      "       1, 1, 1, 1, 1, 1, 1, 1, 1, 1, 1, 1, 1, 1, 1, 1, 1, 1, 1, 1, 1, 1,\n",
      "       1, 1, 1, 1, 1, 1, 1, 1, 1, 1, 1, 1, 1, 1, 1, 1, 1, 1, 1, 1, 2, 2,\n",
      "       2, 2, 2, 2, 2, 2, 2, 2, 2, 2, 2, 2, 2, 2, 2, 2, 2, 2, 2, 2, 2, 2,\n",
      "       2, 2, 2, 2, 2, 2, 2, 2, 2, 2, 2, 2, 2, 2, 2, 2, 2, 2, 2, 2, 2, 2,\n",
      "       2, 2]), 'frame': None, 'target_names': array(['class_0', 'class_1', 'class_2'], dtype='<U7'), 'DESCR': '.. _wine_dataset:\\n\\nWine recognition dataset\\n------------------------\\n\\n**Data Set Characteristics:**\\n\\n    :Number of Instances: 178 (50 in each of three classes)\\n    :Number of Attributes: 13 numeric, predictive attributes and the class\\n    :Attribute Information:\\n \\t\\t- Alcohol\\n \\t\\t- Malic acid\\n \\t\\t- Ash\\n\\t\\t- Alcalinity of ash  \\n \\t\\t- Magnesium\\n\\t\\t- Total phenols\\n \\t\\t- Flavanoids\\n \\t\\t- Nonflavanoid phenols\\n \\t\\t- Proanthocyanins\\n\\t\\t- Color intensity\\n \\t\\t- Hue\\n \\t\\t- OD280/OD315 of diluted wines\\n \\t\\t- Proline\\n\\n    - class:\\n            - class_0\\n            - class_1\\n            - class_2\\n\\t\\t\\n    :Summary Statistics:\\n    \\n    ============================= ==== ===== ======= =====\\n                                   Min   Max   Mean     SD\\n    ============================= ==== ===== ======= =====\\n    Alcohol:                      11.0  14.8    13.0   0.8\\n    Malic Acid:                   0.74  5.80    2.34  1.12\\n    Ash:                          1.36  3.23    2.36  0.27\\n    Alcalinity of Ash:            10.6  30.0    19.5   3.3\\n    Magnesium:                    70.0 162.0    99.7  14.3\\n    Total Phenols:                0.98  3.88    2.29  0.63\\n    Flavanoids:                   0.34  5.08    2.03  1.00\\n    Nonflavanoid Phenols:         0.13  0.66    0.36  0.12\\n    Proanthocyanins:              0.41  3.58    1.59  0.57\\n    Colour Intensity:              1.3  13.0     5.1   2.3\\n    Hue:                          0.48  1.71    0.96  0.23\\n    OD280/OD315 of diluted wines: 1.27  4.00    2.61  0.71\\n    Proline:                       278  1680     746   315\\n    ============================= ==== ===== ======= =====\\n\\n    :Missing Attribute Values: None\\n    :Class Distribution: class_0 (59), class_1 (71), class_2 (48)\\n    :Creator: R.A. Fisher\\n    :Donor: Michael Marshall (MARSHALL%PLU@io.arc.nasa.gov)\\n    :Date: July, 1988\\n\\nThis is a copy of UCI ML Wine recognition datasets.\\nhttps://archive.ics.uci.edu/ml/machine-learning-databases/wine/wine.data\\n\\nThe data is the results of a chemical analysis of wines grown in the same\\nregion in Italy by three different cultivators. There are thirteen different\\nmeasurements taken for different constituents found in the three types of\\nwine.\\n\\nOriginal Owners: \\n\\nForina, M. et al, PARVUS - \\nAn Extendible Package for Data Exploration, Classification and Correlation. \\nInstitute of Pharmaceutical and Food Analysis and Technologies,\\nVia Brigata Salerno, 16147 Genoa, Italy.\\n\\nCitation:\\n\\nLichman, M. (2013). UCI Machine Learning Repository\\n[https://archive.ics.uci.edu/ml]. Irvine, CA: University of California,\\nSchool of Information and Computer Science. \\n\\n.. topic:: References\\n\\n  (1) S. Aeberhard, D. Coomans and O. de Vel, \\n  Comparison of Classifiers in High Dimensional Settings, \\n  Tech. Rep. no. 92-02, (1992), Dept. of Computer Science and Dept. of  \\n  Mathematics and Statistics, James Cook University of North Queensland. \\n  (Also submitted to Technometrics). \\n\\n  The data was used with many others for comparing various \\n  classifiers. The classes are separable, though only RDA \\n  has achieved 100% correct classification. \\n  (RDA : 100%, QDA 99.4%, LDA 98.9%, 1NN 96.1% (z-transformed data)) \\n  (All results using the leave-one-out technique) \\n\\n  (2) S. Aeberhard, D. Coomans and O. de Vel, \\n  \"THE CLASSIFICATION PERFORMANCE OF RDA\" \\n  Tech. Rep. no. 92-01, (1992), Dept. of Computer Science and Dept. of \\n  Mathematics and Statistics, James Cook University of North Queensland. \\n  (Also submitted to Journal of Chemometrics).\\n', 'feature_names': ['alcohol', 'malic_acid', 'ash', 'alcalinity_of_ash', 'magnesium', 'total_phenols', 'flavanoids', 'nonflavanoid_phenols', 'proanthocyanins', 'color_intensity', 'hue', 'od280/od315_of_diluted_wines', 'proline']}\n"
     ]
    }
   ],
   "source": [
    "#Load dataset\n",
    "wine = datasets.load_wine()\n",
    "print(wine)\n",
    "#참고 Wine 데이터의 특징은 wine.data, Wine 데이터의 정답 레이블은 wine.target 입니다."
   ]
  },
  {
   "cell_type": "code",
   "execution_count": 18,
   "metadata": {
    "id": "AOb1bfMTDV1Z"
   },
   "outputs": [
    {
     "data": {
      "text/plain": [
       "0.7865168539325843"
      ]
     },
     "execution_count": 18,
     "metadata": {},
     "output_type": "execute_result"
    }
   ],
   "source": [
    "wine_target=[0, 0, 0, 0, 0, 0, 0, 0, 0, 0, 0, 0, 0, 0, 0, 0, 0, 0, 0, 0, 0, 0,\n",
    "       0, 0, 0, 0, 0, 0, 0, 0, 0, 0, 0, 0, 0, 0, 0, 0, 0, 0, 0, 0, 0, 0,\n",
    "       0, 0, 0, 0, 0, 0, 0, 0, 0, 0, 0, 0, 0, 0, 0, 1, 1, 1, 1, 1, 1, 1,\n",
    "       1, 1, 1, 1, 1, 1, 1, 1, 1, 1, 1, 1, 1, 1, 1, 1, 1, 1, 1, 1, 1, 1,\n",
    "       1, 1, 1, 1, 1, 1, 1, 1, 1, 1, 1, 1, 1, 1, 1, 1, 1, 1, 1, 1, 1, 1,\n",
    "       1, 1, 1, 1, 1, 1, 1, 1, 1, 1, 1, 1, 1, 1, 1, 1, 1, 1, 1, 1, 2, 2,\n",
    "       2, 2, 2, 2, 2, 2, 2, 2, 2, 2, 2, 2, 2, 2, 2, 2, 2, 2, 2, 2, 2, 2,\n",
    "       2, 2, 2, 2, 2, 2, 2, 2, 2, 2, 2, 2, 2, 2, 2, 2, 2, 2, 2, 2, 2, 2,\n",
    "       2, 2]\n",
    "from sklearn.neighbors import KNeighborsClassifier\n",
    "kn=KNeighborsClassifier()\n",
    "kn.fit(wine.data,wine_target)\n",
    "kn.score(wine.data,wine_target)"
   ]
  },
  {
   "cell_type": "code",
   "execution_count": 27,
   "metadata": {
    "id": "I4qy-chrDVy4"
   },
   "outputs": [
    {
     "name": "stdout",
     "output_type": "stream",
     "text": [
      "[0.8764044943820225, 0.8707865168539326, 0.8258426966292135, 0.7865168539325843, 0.7752808988764045, 0.7471910112359551]\n",
      "[2, 3, 4, 5, 6, 7]\n"
     ]
    }
   ],
   "source": [
    "alpha=[]\n",
    "k=[]\n",
    "for a in range(2,8):\n",
    "    k.append(a)\n",
    "    kn=KNeighborsClassifier(n_neighbors=a)\n",
    "    kn.fit(wine.data,wine_target)\n",
    "    alpha.append(kn.score(wine.data,wine_target))\n",
    "#n=2일때 정확도가 가장 높다\n",
    "print(alpha)\n",
    "print(k)\n"
   ]
  },
  {
   "cell_type": "code",
   "execution_count": 28,
   "metadata": {},
   "outputs": [
    {
     "data": {
      "image/png": "[encoded data removed]",
      "text/plain": [
       "<Figure size 432x288 with 1 Axes>"
      ]
     },
     "metadata": {
      "needs_background": "light"
     },
     "output_type": "display_data"
    }
   ],
   "source": [
    "plt.scatter(k,alpha)\n",
    "plt.xlabel('k')\n",
    "plt.ylabel('accuracy')\n",
    "plt.show()\n"
   ]
  },
  {
   "cell_type": "code",
   "execution_count": null,
   "metadata": {},
   "outputs": [],
   "source": []
  }
 ],
 "metadata": {
  "colab": {
   "authorship_tag": "ABX9TyOxAgyYlm9wPBpx4VoHQ333",
   "collapsed_sections": [],
   "provenance": []
  },
  "kernelspec": {
   "display_name": "Python 3 (ipykernel)",
   "language": "python",
   "name": "python3"
  },
  "language_info": {
   "codemirror_mode": {
    "name": "ipython",
    "version": 3
   },
   "file_extension": ".py",
   "mimetype": "text/x-python",
   "name": "python",
   "nbconvert_exporter": "python",
   "pygments_lexer": "ipython3",
   "version": "3.9.7"
  }
 },
 "nbformat": 4,
 "nbformat_minor": 1
}
