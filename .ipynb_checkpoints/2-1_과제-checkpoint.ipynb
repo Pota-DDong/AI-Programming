{
 "cells": [
  {
   "cell_type": "markdown",
   "metadata": {
    "id": "TT0BCgLAvY1U"
   },
   "source": [
    "※ 참고사항\n",
    "1. 실습 시간에 모든 문제를 해결했을 경우, 강의 종료!\n",
    "\n",
    "2. 위의 질문에 대해 각자 Cell을 만들어 작성하고, E-campus에 제출시 ipynb 파일로 제출할 것.\n",
    "\n",
    "3. 첫번째 과제의 제출 기간은 9/22 15:00 까지\n",
    "\n",
    "4. 기타 질문 사항은 조교에게 문의\n",
    "\n",
    "문제1 : 강수량과 기온에 따른 날씨의 맑음, 흐림에 대한 유무가 다음 데이터와 같다.\n",
    "\n",
    "해당 데이터와, KNeighborsClassifier를 사용하여 날씨 정보를 학습하고 예측하는 프로그램을 구성하고 아래 사항에 답하여라\n",
    "\n",
    "단, Train, Test Data의 비율을 7:3으로 나누어 학습하여라.\n",
    "\n",
    "1-1) N = 3일 때 분류 모델의 정확도를 구하여라\n",
    "\n",
    "1-2) N = 3일 때, 강수량이 2.0, 기온이 20.0일 때 날씨는 흐림인가? 맑음인가?\n",
    "\n",
    "1-3) N = 3일 때, 강수량이 5.0, 기온이 21.0일 때 날씨는 맑음인가? 흐림인가?\n",
    "\n",
    "1-4) N의 값의 범위가 2~5일 때 가장 정확도가 높은 N의 값이 Train, Test Data로 나누기 전과 차이가 있는지 기술하고, 가장 정확도가 높은 N의 값을 구하여라. 각각의 경우를 Plotting 하고, 그림에 대해 분석하여라\n",
    "\n",
    "1-5) N = 3일 때, Train, Test Data의 비율을 6:4, 7:3, 8:2로 구분하여 각각 학습하고, 어느 비율에서 가장 높은 정확도를 보이는지 답하여라.\n",
    "\n",
    "\n"
   ]
  },
  {
   "cell_type": "code",
   "execution_count": 2,
   "metadata": {
    "id": "xp8QjjMkyAw4"
   },
   "outputs": [],
   "source": [
    "from sklearn.neighbors import KNeighborsClassifier\n",
    "import numpy as np\n",
    "from sklearn import datasets\n",
    "\n",
    "# Assigning features and label variables\n",
    "# First Feature\n",
    "rain = [0.0, 0.5, 1.0, 7.1, 2.3, 6.1, 3.3, 3.7, 20.0, 2.1, 0.1, 0.3, 0.3, 1.1, 0.5, 4.2, 8.6, 3.0, 5.4, 3.3]\n",
    "\n",
    "# Second Feature\n",
    "temp = [23.1, 22.7, 21.9, 16.4, 20.2, 19.2, 19.5, 18.3, 14.2, 21.1, 22.2, 22.3, 22.0, 21.1, 23.0, 20.1, 17.8, 18.9, 18.2, 20.6]\n",
    "\n",
    "# Label or target varible 0 : 흐림, 1 : 맑음\n",
    "weather = [1, 1, 1, 0, 0, 0, 1, 0, 0, 0, 1, 1, 1, 1, 1, 0, 0, 0, 0, 1]"
   ]
  },
  {
   "cell_type": "code",
   "execution_count": 3,
   "metadata": {
    "id": "bYEVHvk0wc2C"
   },
   "outputs": [
    {
     "data": {
      "text/plain": [
       "0.85"
      ]
     },
     "execution_count": 3,
     "metadata": {},
     "output_type": "execute_result"
    }
   ],
   "source": [
    "weather_data=[[l,w]for l, w in zip(rain,temp)]\n",
    "kn=KNeighborsClassifier(n_neighbors=3)\n",
    "kn.fit(weather_data,weather)\n",
    "kn.score(weather_data,weather)"
   ]
  },
  {
   "cell_type": "code",
   "execution_count": 4,
   "metadata": {
    "id": "aFQOseEKwc0L"
   },
   "outputs": [
    {
     "data": {
      "text/plain": [
       "array([1])"
      ]
     },
     "execution_count": 4,
     "metadata": {},
     "output_type": "execute_result"
    }
   ],
   "source": [
    "kn.predict([[3.0,20.0]])#맑다"
   ]
  },
  {
   "cell_type": "code",
   "execution_count": 5,
   "metadata": {
    "id": "I5DRqbtUwcyD"
   },
   "outputs": [
    {
     "data": {
      "text/plain": [
       "array([1])"
      ]
     },
     "execution_count": 5,
     "metadata": {},
     "output_type": "execute_result"
    }
   ],
   "source": [
    "kn.predict([[.0,20.0]])#맑음"
   ]
  },
  {
   "cell_type": "code",
   "execution_count": null,
   "metadata": {
    "id": "KEZOMb7Awcvw"
   },
   "outputs": [],
   "source": []
  },
  {
   "cell_type": "markdown",
   "metadata": {
    "id": "5BpJeW0mvZV7"
   },
   "source": [
    "실습 문제 2 아래 Cell에 Wine에 대한 정보가 담겨있다. \n",
    "\n",
    "해당 데이터와, KNeighborsClassifier를 사용하여 날씨 정보를 학습하고 예측하는 프로그램을 구성하고 아래 사항에 답하여라\n",
    "\n",
    "단, Train, Test Data의 비율을 7:3으로 나누어 학습하여라.\n",
    "\n",
    "1-1) N = 3일 때 분류 모델의 정확도를 구하여라.\n",
    "\n",
    "1-2) N의 값의 범위가 2~5일 때 가장 정확도가 높은 N의 값이 Train, Test Data로 나누기 전과 차이가 있는지 기술하고, 가장 정확도가 높은 N의 값을 구하여라. 각각의 경우를 Plotting 하고, 그림에 대해 분석하여라\n",
    "\n",
    "\n",
    "1-3) N = 3일 때, Train, Test Data의 비율을 6:4, 7:3, 8:2로 구분하여 각각 학습하고 가장 높은 정확도가 어느 비율인지 기술하여라."
   ]
  },
  {
   "cell_type": "code",
   "execution_count": null,
   "metadata": {
    "id": "9Pbw5XtWwNQM"
   },
   "outputs": [],
   "source": [
    "#Load dataset\n",
    "wine = datasets.load_wine()\n",
    "print(wine)"
   ]
  },
  {
   "cell_type": "code",
   "execution_count": null,
   "metadata": {
    "id": "iWpisZXkwcab"
   },
   "outputs": [],
   "source": []
  },
  {
   "cell_type": "code",
   "execution_count": null,
   "metadata": {
    "id": "mDQ9Q1AFwcTH"
   },
   "outputs": [],
   "source": []
  },
  {
   "cell_type": "code",
   "execution_count": null,
   "metadata": {
    "id": "iRs5_n_mwdMZ"
   },
   "outputs": [],
   "source": []
  }
 ],
 "metadata": {
  "colab": {
   "authorship_tag": "ABX9TyOJJw7cnjMfFQ88zrMaPcz4",
   "collapsed_sections": [],
   "provenance": []
  },
  "kernelspec": {
   "display_name": "Python 3 (ipykernel)",
   "language": "python",
   "name": "python3"
  },
  "language_info": {
   "codemirror_mode": {
    "name": "ipython",
    "version": 3
   },
   "file_extension": ".py",
   "mimetype": "text/x-python",
   "name": "python",
   "nbconvert_exporter": "python",
   "pygments_lexer": "ipython3",
   "version": "3.9.7"
  }
 },
 "nbformat": 4,
 "nbformat_minor": 1
}
